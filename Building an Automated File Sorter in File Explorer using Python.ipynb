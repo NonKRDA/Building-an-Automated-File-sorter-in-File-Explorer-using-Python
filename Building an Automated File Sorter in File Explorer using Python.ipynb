{
 "cells": [
  {
   "cell_type": "markdown",
   "id": "a0e53110-0fc1-4b54-8a65-e64d3dd9ad76",
   "metadata": {},
   "source": [
    "# Automatic File Sorter in File Explorer\n"
   ]
  },
  {
   "cell_type": "code",
   "execution_count": 61,
   "id": "7c2b9bd3-f0c9-4cf7-803e-eba5ceb4f86f",
   "metadata": {},
   "outputs": [],
   "source": [
    "import os, shutil"
   ]
  },
  {
   "cell_type": "code",
   "execution_count": 104,
   "id": "9d6c2a4a-c5c2-4bf5-973f-378546cff13d",
   "metadata": {},
   "outputs": [],
   "source": [
    "path = r\"C:/Users/user/OneDrive/เอกสาร/Tutorial/\""
   ]
  },
  {
   "cell_type": "code",
   "execution_count": 106,
   "id": "2498e675-0b13-42d6-80e4-d788ac644d3e",
   "metadata": {},
   "outputs": [],
   "source": [
    "file_name = os.listdir(path)"
   ]
  },
  {
   "cell_type": "code",
   "execution_count": 108,
   "id": "cfc68289-25f2-40a6-a6f9-2d495a6b2938",
   "metadata": {},
   "outputs": [],
   "source": [
    "#os = operator system"
   ]
  },
  {
   "cell_type": "code",
   "execution_count": 118,
   "id": "8fa6163d-9114-46eb-9219-803a55ceec18",
   "metadata": {},
   "outputs": [],
   "source": [
    "folder_names = ['csv files','image files','text files']\n",
    "for loop in range(0,3):\n",
    "   if not os.path.exists(path + folder_names[loop]):\n",
    "       print(path + folder_names[loop])\n",
    "       os.makedirs((path + folder_names[loop]))\n",
    "for file in file_name:\n",
    "    if \".csv\" in file and not os.path.exists(path + \"csv files/\"+ file):\n",
    "        shutil.move(path + file, path + \"csv files/\" + file)\n",
    "    elif \".png\" in file and not os.path.exists(path + \"image files/\"+ file):\n",
    "        shutil.move(path + file, path + \"image files/\" + file)\n",
    "    elif \".txt\" in file and not os.path.exists(path + \"text files/\"+ file):\n",
    "        shutil.move(path + file, path + \"text files/\" + file)\n"
   ]
  },
  {
   "cell_type": "code",
   "execution_count": 116,
   "id": "f99f7b4a-0f2c-46c4-b4d2-8caf9227ddb1",
   "metadata": {
    "scrolled": true
   },
   "outputs": [],
   "source": []
  },
  {
   "cell_type": "code",
   "execution_count": null,
   "id": "425bef6d-a982-4319-859c-b4ed469d5cf0",
   "metadata": {},
   "outputs": [],
   "source": []
  },
  {
   "cell_type": "code",
   "execution_count": null,
   "id": "50c6d71f-06a2-438e-a560-3b682aa04349",
   "metadata": {},
   "outputs": [],
   "source": []
  },
  {
   "cell_type": "code",
   "execution_count": null,
   "id": "ee748143-b9b4-4085-b2f6-60b3bdbdf6c5",
   "metadata": {},
   "outputs": [],
   "source": []
  },
  {
   "cell_type": "code",
   "execution_count": null,
   "id": "2f0d4cec-6c01-478c-a5bd-98df90deecb6",
   "metadata": {},
   "outputs": [],
   "source": []
  },
  {
   "cell_type": "code",
   "execution_count": null,
   "id": "5fbaab82-d3e0-4939-86ff-d955ce0377db",
   "metadata": {},
   "outputs": [],
   "source": []
  },
  {
   "cell_type": "code",
   "execution_count": null,
   "id": "33467047-6ec9-47e4-81b3-6639addf0ed2",
   "metadata": {},
   "outputs": [],
   "source": []
  }
 ],
 "metadata": {
  "kernelspec": {
   "display_name": "Python 3 (ipykernel)",
   "language": "python",
   "name": "python3"
  },
  "language_info": {
   "codemirror_mode": {
    "name": "ipython",
    "version": 3
   },
   "file_extension": ".py",
   "mimetype": "text/x-python",
   "name": "python",
   "nbconvert_exporter": "python",
   "pygments_lexer": "ipython3",
   "version": "3.12.7"
  }
 },
 "nbformat": 4,
 "nbformat_minor": 5
}
